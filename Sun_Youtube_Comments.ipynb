{
  "nbformat": 4,
  "nbformat_minor": 0,
  "metadata": {
    "colab": {
      "provenance": []
    },
    "kernelspec": {
      "name": "python3",
      "display_name": "Python 3"
    },
    "language_info": {
      "name": "python"
    }
  },
  "cells": [
    {
      "cell_type": "code",
      "source": [
        "# Installing packages needed.\n",
        "#emoji - Python package for print and use of emojis\n",
        "#vaderSentiment - Sentiment analysis tool.\n",
        "#google-api-python-client - Used for interacting with google services and API."
      ],
      "metadata": {
        "id": "F1Wurvzw9eVj"
      },
      "execution_count": null,
      "outputs": []
    },
    {
      "cell_type": "code",
      "execution_count": null,
      "metadata": {
        "colab": {
          "base_uri": "https://localhost:8080/"
        },
        "id": "pXoojKrL8QN1",
        "outputId": "39feca72-21cd-4954-8f08-14455682c7fb"
      },
      "outputs": [
        {
          "output_type": "stream",
          "name": "stdout",
          "text": [
            "Collecting emoji\n",
            "  Downloading emoji-2.12.1-py3-none-any.whl.metadata (5.4 kB)\n",
            "Requirement already satisfied: typing-extensions>=4.7.0 in /usr/local/lib/python3.10/dist-packages (from emoji) (4.12.2)\n",
            "Downloading emoji-2.12.1-py3-none-any.whl (431 kB)\n",
            "\u001b[?25l   \u001b[90m━━━━━━━━━━━━━━━━━━━━━━━━━━━━━━━━━━━━━━━━\u001b[0m \u001b[32m0.0/431.4 kB\u001b[0m \u001b[31m?\u001b[0m eta \u001b[36m-:--:--\u001b[0m\r\u001b[2K   \u001b[91m━━━━━━━━━━━━━━\u001b[0m\u001b[90m╺\u001b[0m\u001b[90m━━━━━━━━━━━━━━━━━━━━━━━━━\u001b[0m \u001b[32m153.6/431.4 kB\u001b[0m \u001b[31m4.7 MB/s\u001b[0m eta \u001b[36m0:00:01\u001b[0m\r\u001b[2K   \u001b[90m━━━━━━━━━━━━━━━━━━━━━━━━━━━━━━━━━━━━━━━━\u001b[0m \u001b[32m431.4/431.4 kB\u001b[0m \u001b[31m6.5 MB/s\u001b[0m eta \u001b[36m0:00:00\u001b[0m\n",
            "\u001b[?25hInstalling collected packages: emoji\n",
            "Successfully installed emoji-2.12.1\n",
            "Collecting vaderSentiment\n",
            "  Downloading vaderSentiment-3.3.2-py2.py3-none-any.whl.metadata (572 bytes)\n",
            "Requirement already satisfied: requests in /usr/local/lib/python3.10/dist-packages (from vaderSentiment) (2.32.3)\n",
            "Requirement already satisfied: charset-normalizer<4,>=2 in /usr/local/lib/python3.10/dist-packages (from requests->vaderSentiment) (3.3.2)\n",
            "Requirement already satisfied: idna<4,>=2.5 in /usr/local/lib/python3.10/dist-packages (from requests->vaderSentiment) (3.8)\n",
            "Requirement already satisfied: urllib3<3,>=1.21.1 in /usr/local/lib/python3.10/dist-packages (from requests->vaderSentiment) (2.0.7)\n",
            "Requirement already satisfied: certifi>=2017.4.17 in /usr/local/lib/python3.10/dist-packages (from requests->vaderSentiment) (2024.8.30)\n",
            "Downloading vaderSentiment-3.3.2-py2.py3-none-any.whl (125 kB)\n",
            "\u001b[2K   \u001b[90m━━━━━━━━━━━━━━━━━━━━━━━━━━━━━━━━━━━━━━━━\u001b[0m \u001b[32m126.0/126.0 kB\u001b[0m \u001b[31m2.8 MB/s\u001b[0m eta \u001b[36m0:00:00\u001b[0m\n",
            "\u001b[?25hInstalling collected packages: vaderSentiment\n",
            "Successfully installed vaderSentiment-3.3.2\n",
            "Requirement already satisfied: google-api-python-client in /usr/local/lib/python3.10/dist-packages (2.137.0)\n",
            "Requirement already satisfied: httplib2<1.dev0,>=0.19.0 in /usr/local/lib/python3.10/dist-packages (from google-api-python-client) (0.22.0)\n",
            "Requirement already satisfied: google-auth!=2.24.0,!=2.25.0,<3.0.0.dev0,>=1.32.0 in /usr/local/lib/python3.10/dist-packages (from google-api-python-client) (2.27.0)\n",
            "Requirement already satisfied: google-auth-httplib2<1.0.0,>=0.2.0 in /usr/local/lib/python3.10/dist-packages (from google-api-python-client) (0.2.0)\n",
            "Requirement already satisfied: google-api-core!=2.0.*,!=2.1.*,!=2.2.*,!=2.3.0,<3.0.0.dev0,>=1.31.5 in /usr/local/lib/python3.10/dist-packages (from google-api-python-client) (2.19.2)\n",
            "Requirement already satisfied: uritemplate<5,>=3.0.1 in /usr/local/lib/python3.10/dist-packages (from google-api-python-client) (4.1.1)\n",
            "Requirement already satisfied: googleapis-common-protos<2.0.dev0,>=1.56.2 in /usr/local/lib/python3.10/dist-packages (from google-api-core!=2.0.*,!=2.1.*,!=2.2.*,!=2.3.0,<3.0.0.dev0,>=1.31.5->google-api-python-client) (1.65.0)\n",
            "Requirement already satisfied: protobuf!=3.20.0,!=3.20.1,!=4.21.0,!=4.21.1,!=4.21.2,!=4.21.3,!=4.21.4,!=4.21.5,<6.0.0.dev0,>=3.19.5 in /usr/local/lib/python3.10/dist-packages (from google-api-core!=2.0.*,!=2.1.*,!=2.2.*,!=2.3.0,<3.0.0.dev0,>=1.31.5->google-api-python-client) (3.20.3)\n",
            "Requirement already satisfied: proto-plus<2.0.0dev,>=1.22.3 in /usr/local/lib/python3.10/dist-packages (from google-api-core!=2.0.*,!=2.1.*,!=2.2.*,!=2.3.0,<3.0.0.dev0,>=1.31.5->google-api-python-client) (1.24.0)\n",
            "Requirement already satisfied: requests<3.0.0.dev0,>=2.18.0 in /usr/local/lib/python3.10/dist-packages (from google-api-core!=2.0.*,!=2.1.*,!=2.2.*,!=2.3.0,<3.0.0.dev0,>=1.31.5->google-api-python-client) (2.32.3)\n",
            "Requirement already satisfied: cachetools<6.0,>=2.0.0 in /usr/local/lib/python3.10/dist-packages (from google-auth!=2.24.0,!=2.25.0,<3.0.0.dev0,>=1.32.0->google-api-python-client) (5.5.0)\n",
            "Requirement already satisfied: pyasn1-modules>=0.2.1 in /usr/local/lib/python3.10/dist-packages (from google-auth!=2.24.0,!=2.25.0,<3.0.0.dev0,>=1.32.0->google-api-python-client) (0.4.1)\n",
            "Requirement already satisfied: rsa<5,>=3.1.4 in /usr/local/lib/python3.10/dist-packages (from google-auth!=2.24.0,!=2.25.0,<3.0.0.dev0,>=1.32.0->google-api-python-client) (4.9)\n",
            "Requirement already satisfied: pyparsing!=3.0.0,!=3.0.1,!=3.0.2,!=3.0.3,<4,>=2.4.2 in /usr/local/lib/python3.10/dist-packages (from httplib2<1.dev0,>=0.19.0->google-api-python-client) (3.1.4)\n",
            "Requirement already satisfied: pyasn1<0.7.0,>=0.4.6 in /usr/local/lib/python3.10/dist-packages (from pyasn1-modules>=0.2.1->google-auth!=2.24.0,!=2.25.0,<3.0.0.dev0,>=1.32.0->google-api-python-client) (0.6.1)\n",
            "Requirement already satisfied: charset-normalizer<4,>=2 in /usr/local/lib/python3.10/dist-packages (from requests<3.0.0.dev0,>=2.18.0->google-api-core!=2.0.*,!=2.1.*,!=2.2.*,!=2.3.0,<3.0.0.dev0,>=1.31.5->google-api-python-client) (3.3.2)\n",
            "Requirement already satisfied: idna<4,>=2.5 in /usr/local/lib/python3.10/dist-packages (from requests<3.0.0.dev0,>=2.18.0->google-api-core!=2.0.*,!=2.1.*,!=2.2.*,!=2.3.0,<3.0.0.dev0,>=1.31.5->google-api-python-client) (3.8)\n",
            "Requirement already satisfied: urllib3<3,>=1.21.1 in /usr/local/lib/python3.10/dist-packages (from requests<3.0.0.dev0,>=2.18.0->google-api-core!=2.0.*,!=2.1.*,!=2.2.*,!=2.3.0,<3.0.0.dev0,>=1.31.5->google-api-python-client) (2.0.7)\n",
            "Requirement already satisfied: certifi>=2017.4.17 in /usr/local/lib/python3.10/dist-packages (from requests<3.0.0.dev0,>=2.18.0->google-api-core!=2.0.*,!=2.1.*,!=2.2.*,!=2.3.0,<3.0.0.dev0,>=1.31.5->google-api-python-client) (2024.8.30)\n"
          ]
        }
      ],
      "source": [
        "! pip install emoji\n",
        "! pip install vaderSentiment\n",
        "! pip install google-api-python-client"
      ]
    },
    {
      "cell_type": "code",
      "source": [
        "#Installation of more packages.\n",
        "#googleapiclient.discovery - For filtering comments.\n",
        "#re - For filtering comments with just emojis\n",
        "#matplotlib - For visualization.\n",
        "from googleapiclient.discovery import build\n",
        "import re\n",
        "import emoji\n",
        "from vaderSentiment.vaderSentiment import SentimentIntensityAnalyzer\n",
        "import matplotlib.pyplot as plt"
      ],
      "metadata": {
        "id": "xhDtwTni9eeg"
      },
      "execution_count": null,
      "outputs": []
    },
    {
      "cell_type": "code",
      "source": [
        "# Extracting comments.\n",
        "\n",
        "API_KEY = 'AIzaSy.......................'\n",
        "\n",
        "\n",
        "youtube = build('youtube', 'v3', developerKey=API_KEY)\n",
        "\n",
        "video_id = input('https://www.youtube.com/watch?v=M_X8Whrzoms: ')[-11:]\n",
        "print(\"video id: \" + video_id)\n",
        "\n",
        "video_response = youtube.videos().list(\n",
        "\tpart='snippet',\n",
        "\tid=video_id\n",
        ").execute()\n",
        "\n",
        "video_snippet = video_response['items'][0]['snippet']\n",
        "uploader_channel_id = video_snippet['channelId']\n",
        "print(\"channel id: \" + uploader_channel_id)\n"
      ],
      "metadata": {
        "colab": {
          "base_uri": "https://localhost:8080/"
        },
        "id": "VxIrgSYL9ejE",
        "outputId": "b440bcbe-0f9e-41d1-d876-fe76662472b3"
      },
      "execution_count": null,
      "outputs": [
        {
          "output_type": "stream",
          "name": "stdout",
          "text": [
            "https://www.youtube.com/watch?v=M_X8Whrzoms: M_X8Whrzoms\n",
            "video id: M_X8Whrzoms\n",
            "channel id: UCxVoBlRQHWr-GKiAH0zMSCg\n"
          ]
        }
      ]
    },
    {
      "cell_type": "code",
      "source": [
        "print(\"Fetching Comments...\")\n",
        "comments = []\n",
        "nextPageToken = None\n",
        "while len(comments) < 3000:\n",
        "\trequest = youtube.commentThreads().list(\n",
        "\t\tpart='snippet',\n",
        "\t\tvideoId=video_id,\n",
        "\t\tmaxResults=100,\n",
        "\t\tpageToken=nextPageToken\n",
        "\t)\n",
        "\tresponse = request.execute()\n",
        "\tfor item in response['items']:\n",
        "\t\tcomment = item['snippet']['topLevelComment']['snippet']\n",
        "\t\tif comment['authorChannelId']['value'] != uploader_channel_id:\n",
        "\t\t\tcomments.append(comment['textDisplay'])\n",
        "\tnextPageToken = response.get('nextPageToken')\n",
        "\n",
        "\tif not nextPageToken:\n",
        "\t\tbreak\n",
        "comments[:5]\n"
      ],
      "metadata": {
        "colab": {
          "base_uri": "https://localhost:8080/"
        },
        "id": "5hI-k-v59enZ",
        "outputId": "cb1ab578-97f7-4e4b-ca9c-309c22d8bc20"
      },
      "execution_count": null,
      "outputs": [
        {
          "output_type": "stream",
          "name": "stdout",
          "text": [
            "Fetching Comments...\n"
          ]
        },
        {
          "output_type": "execute_result",
          "data": {
            "text/plain": [
              "['Smart call hun, cause if u couldn&#39;t take her jabs, u sure dont wanna see no upper cut or over hand,Lordy Lordy',\n",
              " 'Gotta love how everyone immediately jumped on the &quot;she must be trans&quot; bandwagon with literally no proof. We don&#39;t have enough eggs for all the faces that whined about her in this comment section.',\n",
              " 'Yall spreading misinformation... disgusting',\n",
              " 'She is a born female....she is not a born man',\n",
              " 'Wrong ring']"
            ]
          },
          "metadata": {},
          "execution_count": 8
        }
      ]
    },
    {
      "cell_type": "code",
      "source": [
        "#Flitering for quality comments using #Re without emojis and hyperlinks.\n",
        "hyperlink_pattern = re.compile(\n",
        "\tr'http[s]?://(?:[a-zA-Z]|[0-9]|[$-_@.&+]|[!*\\\\(\\\\),]|(?:%[0-9a-fA-F][0-9a-fA-F]))+')\n",
        "\n",
        "threshold_ratio = 0.65\n",
        "\n",
        "relevant_comments = []\n",
        "\n",
        "for comment_text in comments:\n",
        "\n",
        "\tcomment_text = comment_text.lower().strip()\n",
        "\n",
        "\temojis = emoji.emoji_count(comment_text)\n",
        "\n",
        "\ttext_characters = len(re.sub(r'\\s', '', comment_text))\n",
        "\n",
        "\tif (any(char.isalnum() for char in comment_text)) and not hyperlink_pattern.search(comment_text):\n",
        "\t\tif emojis == 0 or (text_characters / (text_characters + emojis)) > threshold_ratio:\n",
        "\t\t\trelevant_comments.append(comment_text)\n",
        "\n",
        "relevant_comments[:5]\n"
      ],
      "metadata": {
        "colab": {
          "base_uri": "https://localhost:8080/"
        },
        "id": "d3Tsc9_IGbaW",
        "outputId": "2202bf96-d359-4dd9-d391-2a85c3abac05"
      },
      "execution_count": null,
      "outputs": [
        {
          "output_type": "execute_result",
          "data": {
            "text/plain": [
              "['smart call hun, cause if u couldn&#39;t take her jabs, u sure dont wanna see no upper cut or over hand,lordy lordy',\n",
              " 'gotta love how everyone immediately jumped on the &quot;she must be trans&quot; bandwagon with literally no proof. we don&#39;t have enough eggs for all the faces that whined about her in this comment section.',\n",
              " 'yall spreading misinformation... disgusting',\n",
              " 'she is a born female....she is not a born man',\n",
              " 'wrong ring']"
            ]
          },
          "metadata": {},
          "execution_count": 9
        }
      ]
    },
    {
      "cell_type": "code",
      "source": [
        "# Saving comments in a text file.\n",
        "f = open(\"ytcomments.txt\", 'w', encoding='utf-8')\n",
        "for idx, comment in enumerate(relevant_comments):\n",
        "\tf.write(str(comment)+\"\\n\")\n",
        "f.close()\n",
        "print(\"Comments stored successfully!\")"
      ],
      "metadata": {
        "colab": {
          "base_uri": "https://localhost:8080/"
        },
        "id": "un9eIZXJGb1x",
        "outputId": "98551220-5ab1-4b18-d413-482a49e4365b"
      },
      "execution_count": null,
      "outputs": [
        {
          "output_type": "stream",
          "name": "stdout",
          "text": [
            "Comments stored successfully!\n"
          ]
        }
      ]
    },
    {
      "cell_type": "code",
      "source": [
        "# Analyzing the sentiments of the comments\n",
        "\n",
        "def sentiment_scores(comment, polarity):\n",
        "\n",
        "\t# Creating a SentimentIntensityAnalyzer object.\n",
        "\tsentiment_object = SentimentIntensityAnalyzer()\n",
        "\n",
        "\tsentiment_dict = sentiment_object.polarity_scores(comment)\n",
        "\tpolarity.append(sentiment_dict['compound'])\n",
        "\n",
        "\treturn polarity\n",
        "\n",
        "\n",
        "polarity = []\n",
        "positive_comments = []\n",
        "negative_comments = []\n",
        "neutral_comments = []\n",
        "\n",
        "f = open(\"ytcomments.txt\", 'r', encoding='`utf-8')\n",
        "comments = f.readlines()\n",
        "f.close()\n",
        "print(\"Analysing Comments...\")\n",
        "for index, items in enumerate(comments):\n",
        "\tpolarity = sentiment_scores(items, polarity)\n",
        "\n",
        "\tif polarity[-1] > 0.05:\n",
        "\t\tpositive_comments.append(items)\n",
        "\telif polarity[-1] < -0.05:\n",
        "\t\tnegative_comments.append(items)\n",
        "\telse:\n",
        "\t\tneutral_comments.append(items)\n",
        "\n",
        "# Print polarity\n",
        "polarity[:5]\n"
      ],
      "metadata": {
        "colab": {
          "base_uri": "https://localhost:8080/"
        },
        "id": "M6ac82TdGb7F",
        "outputId": "58b170fe-a0fb-4d60-9dc5-fe3b43cf6750"
      },
      "execution_count": null,
      "outputs": [
        {
          "output_type": "stream",
          "name": "stdout",
          "text": [
            "Analysing Comments...\n"
          ]
        },
        {
          "output_type": "execute_result",
          "data": {
            "text/plain": [
              "[0.7719, 0.2732, -0.6908, 0.0, -0.4767]"
            ]
          },
          "metadata": {},
          "execution_count": 13
        }
      ]
    },
    {
      "cell_type": "code",
      "source": [
        "avg_polarity = sum(polarity)/len(polarity)\n",
        "print(\"Average Polarity:\", avg_polarity)\n",
        "if avg_polarity > 0.05:\n",
        "\tprint(\"Positive response\")\n",
        "elif avg_polarity < -0.05:\n",
        "\tprint(\"Negative response\")\n",
        "else:\n",
        "\tprint(\"Neutral response\")\n",
        "\n",
        "print(\"The comment with the most positive sentiment:\", comments[polarity.index(max(\n",
        "\tpolarity))], \"with score\", max(polarity), \"and length\", len(comments[polarity.index(max(polarity))]))\n",
        "print(\"The comment with the most negative sentiment:\", comments[polarity.index(min(\n",
        "\tpolarity))], \"with score\", min(polarity), \"and length\", len(comments[polarity.index(min(polarity))]))\n"
      ],
      "metadata": {
        "colab": {
          "base_uri": "https://localhost:8080/"
        },
        "id": "OsuyaOVcHPXI",
        "outputId": "48d21cd4-165b-45fc-b1d9-1ac2e2b2473c"
      },
      "execution_count": null,
      "outputs": [
        {
          "output_type": "stream",
          "name": "stdout",
          "text": [
            "Average Polarity: -0.20605886190648767\n",
            "Negative response\n",
            "The comment with the most positive sentiment: nature &amp; peris olympic in parrelal universe😁😁 😁😁😊😊☺😀😃😄😄😁😁🙏🙏\n",
            " with score 0.9928 and length 64\n",
            "The comment with the most negative sentiment: i don&#39;t use slang words; but if a biological man who cannot compete with male boxers; should get the hell out of boxing. if i were a female boxer who had to deal with this abuse; i would sue somebody for everything i couild get. and i have never sued anyone in my life. this is a world wide joke and a total unfair shame to athletes who have trained so incredably hard to get the crap beat out of them unfairly.\n",
            " with score -0.9821 and length 416\n"
          ]
        }
      ]
    },
    {
      "cell_type": "code",
      "source": [
        "positive_count = len(positive_comments)\n",
        "negative_count = len(negative_comments)\n",
        "neutral_count = len(neutral_comments)\n",
        "\n",
        "# labels and data for Bar chart\n",
        "labels = ['Positive', 'Negative', 'Neutral']\n",
        "comment_counts = [positive_count, negative_count, neutral_count]\n",
        "\n",
        "# Creating bar chart\n",
        "plt.bar(labels, comment_counts, color=['green', 'red', 'yellow'])\n",
        "\n",
        "# Adding labels and title to the plot\n",
        "plt.ylabel('Count_Comment')\n",
        "plt.title('Sentiment of Comments')\n",
        "\n",
        "\n",
        "# Displaying the chart\n",
        "plt.show()\n"
      ],
      "metadata": {
        "id": "bW0o5c-N_vYb",
        "colab": {
          "base_uri": "https://localhost:8080/",
          "height": 452
        },
        "outputId": "6864ee9b-7e12-4738-e9e9-ebe2536a6f3c"
      },
      "execution_count": null,
      "outputs": [
        {
          "output_type": "display_data",
          "data": {
            "text/plain": [
              "<Figure size 640x480 with 1 Axes>"
            ],
            "image/png": "[encoded data removed]"
          },
          "metadata": {}
        }
      ]
    },
    {
      "cell_type": "code",
      "source": [],
      "metadata": {
        "id": "GgaEyZkH_vl4"
      },
      "execution_count": null,
      "outputs": []
    },
    {
      "cell_type": "code",
      "source": [],
      "metadata": {
        "id": "dLVuYRv-_vpH"
      },
      "execution_count": null,
      "outputs": []
    },
    {
      "cell_type": "code",
      "source": [],
      "metadata": {
        "id": "5lbJXwHb_vu9"
      },
      "execution_count": null,
      "outputs": []
    },
    {
      "cell_type": "code",
      "source": [],
      "metadata": {
        "id": "1njYkJ53_vyV"
      },
      "execution_count": null,
      "outputs": []
    }
  ]
}